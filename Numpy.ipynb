{
  "nbformat": 4,
  "nbformat_minor": 0,
  "metadata": {
    "colab": {
      "provenance": [],
      "authorship_tag": "ABX9TyNIDxPNDhFeQYdVpO0c7pQC",
      "include_colab_link": true
    },
    "kernelspec": {
      "name": "python3",
      "display_name": "Python 3"
    },
    "language_info": {
      "name": "python"
    }
  },
  "cells": [
    {
      "cell_type": "markdown",
      "metadata": {
        "id": "view-in-github",
        "colab_type": "text"
      },
      "source": [
        "<a href=\"https://colab.research.google.com/github/Pawan-1008/Atmayog/blob/main/Numpy.ipynb\" target=\"_parent\"><img src=\"https://colab.research.google.com/assets/colab-badge.svg\" alt=\"Open In Colab\"/></a>"
      ]
    },
    {
      "cell_type": "markdown",
      "source": [
        "1.Write a numpy program to test equal, not equal , greater equal, greater and less test of all the elements of two given arrays."
      ],
      "metadata": {
        "id": "-HDsYSRjQTnl"
      }
    },
    {
      "cell_type": "code",
      "execution_count": 1,
      "metadata": {
        "colab": {
          "base_uri": "https://localhost:8080/"
        },
        "id": "6kHAWbpAQSUT",
        "outputId": "f0562722-b690-411e-a299-b15658153853"
      },
      "outputs": [
        {
          "output_type": "stream",
          "name": "stdout",
          "text": [
            "Looking in indexes: https://pypi.org/simple, https://us-python.pkg.dev/colab-wheels/public/simple/\n",
            "Requirement already satisfied: numpy in /usr/local/lib/python3.10/dist-packages (1.22.4)\n"
          ]
        }
      ],
      "source": [
        "!pip install numpy"
      ]
    },
    {
      "cell_type": "code",
      "source": [
        "import numpy as np\n",
        "\n",
        "x1=np.array([1,2,3,4,5,6])\n",
        "x2=np.array([7,8,9,10,11,12])\n",
        "\n",
        "print(\"Array 1 :\" ,x1)\n",
        "print(\"Array 2 :\" ,x2)\n",
        "\n",
        "#equal\n",
        "print(\"equal case\") \n",
        "r=np.equal(x1,x2)\n",
        "print(r)\n",
        "\n",
        "#not_equal\n",
        "print(\"not_equal case\") \n",
        "r1=np.not_equal(x1,x2)\n",
        "print(r1)\n",
        "\n",
        "#less_equal\n",
        "print(\"less_equal case\") \n",
        "r2=np.less_equal(x1,x2)\n",
        "print(r2)\n",
        "\n",
        "#greater_equal\n",
        "print(\"greater_equal case\") \n",
        "r3=np.greater_equal(x1,x2)\n",
        "print(r3)\n",
        "\n",
        "#less\n",
        "print(\"less case\") \n",
        "r4=np.less(x1,x2)\n",
        "print(r4)"
      ],
      "metadata": {
        "colab": {
          "base_uri": "https://localhost:8080/"
        },
        "id": "TJfU9RjVQt0_",
        "outputId": "4fb6b8ab-9b2a-4be4-ab5f-27b713d547ae"
      },
      "execution_count": 8,
      "outputs": [
        {
          "output_type": "stream",
          "name": "stdout",
          "text": [
            "Array 1 : [1 2 3 4 5 6]\n",
            "Array 2 : [ 7  8  9 10 11 12]\n",
            "equal case\n",
            "[False False False False False False]\n",
            "not_equal case\n",
            "[ True  True  True  True  True  True]\n",
            "less_equal case\n",
            "[ True  True  True  True  True  True]\n",
            "greater_equal case\n",
            "[False False False False False False]\n",
            "less case\n",
            "[ True  True  True  True  True  True]\n"
          ]
        }
      ]
    },
    {
      "cell_type": "markdown",
      "source": [
        "2.Write a Numpy program to create an array with the values 10,20,30,40 and determine the size of the memory occupied by the array"
      ],
      "metadata": {
        "id": "A5Ot1TeKT6P_"
      }
    },
    {
      "cell_type": "code",
      "source": [
        "import numpy as np\n",
        "\n",
        "arr=np.array([10,20,30,40])\n",
        "print(arr)\n",
        "print(\"Size of the memory occupied by the array:\")\n",
        "print(\"%d bytes\" % (arr.size * arr.itemsize))"
      ],
      "metadata": {
        "colab": {
          "base_uri": "https://localhost:8080/"
        },
        "id": "OCnUDiO1T9O2",
        "outputId": "3cb20965-9d2e-4858-9c16-2444d77650fa"
      },
      "execution_count": 13,
      "outputs": [
        {
          "output_type": "stream",
          "name": "stdout",
          "text": [
            "[10 20 30 40]\n",
            "Size of the memory occupied by the array:\n",
            "32 bytes\n"
          ]
        }
      ]
    },
    {
      "cell_type": "markdown",
      "source": [
        "3.Write a Numpy program to create :\n",
        "\n",
        "a. An array of the integers from 1 to 100."
      ],
      "metadata": {
        "id": "zCD9MuF9ZuWX"
      }
    },
    {
      "cell_type": "code",
      "source": [
        "import numpy as np\n",
        "arr=np.arange(1,101)\n",
        "print(arr)"
      ],
      "metadata": {
        "colab": {
          "base_uri": "https://localhost:8080/"
        },
        "id": "MXdchCLPZzt6",
        "outputId": "4df870b6-acf0-4c40-ff44-5a924d835385"
      },
      "execution_count": 15,
      "outputs": [
        {
          "output_type": "stream",
          "name": "stdout",
          "text": [
            "[  1   2   3   4   5   6   7   8   9  10  11  12  13  14  15  16  17  18\n",
            "  19  20  21  22  23  24  25  26  27  28  29  30  31  32  33  34  35  36\n",
            "  37  38  39  40  41  42  43  44  45  46  47  48  49  50  51  52  53  54\n",
            "  55  56  57  58  59  60  61  62  63  64  65  66  67  68  69  70  71  72\n",
            "  73  74  75  76  77  78  79  80  81  82  83  84  85  86  87  88  89  90\n",
            "  91  92  93  94  95  96  97  98  99 100]\n"
          ]
        }
      ]
    },
    {
      "cell_type": "markdown",
      "source": [
        "b.An array of all the even integers from 1 to 100."
      ],
      "metadata": {
        "id": "47qlSQwAaBi0"
      }
    },
    {
      "cell_type": "code",
      "source": [
        "import numpy as np\n",
        "arr=np.arange(2,101,2)\n",
        "print(arr)"
      ],
      "metadata": {
        "colab": {
          "base_uri": "https://localhost:8080/"
        },
        "id": "I0S2CdRXaEY8",
        "outputId": "6d20a339-5b92-4621-e73b-c8ec597711d0"
      },
      "execution_count": 16,
      "outputs": [
        {
          "output_type": "stream",
          "name": "stdout",
          "text": [
            "[  2   4   6   8  10  12  14  16  18  20  22  24  26  28  30  32  34  36\n",
            "  38  40  42  44  46  48  50  52  54  56  58  60  62  64  66  68  70  72\n",
            "  74  76  78  80  82  84  86  88  90  92  94  96  98 100]\n"
          ]
        }
      ]
    },
    {
      "cell_type": "markdown",
      "source": [
        "c.An array of all the odd integers from 1 to 100."
      ],
      "metadata": {
        "id": "-DQKQz5IaQ_9"
      }
    },
    {
      "cell_type": "code",
      "source": [
        "import numpy as np\n",
        "arr=np.arange(1,101,2)\n",
        "print(arr)"
      ],
      "metadata": {
        "colab": {
          "base_uri": "https://localhost:8080/"
        },
        "id": "U6diTNiEaWSW",
        "outputId": "8ffdd3c3-d1af-452d-8931-6f3373c04fcd"
      },
      "execution_count": 17,
      "outputs": [
        {
          "output_type": "stream",
          "name": "stdout",
          "text": [
            "[ 1  3  5  7  9 11 13 15 17 19 21 23 25 27 29 31 33 35 37 39 41 43 45 47\n",
            " 49 51 53 55 57 59 61 63 65 67 69 71 73 75 77 79 81 83 85 87 89 91 93 95\n",
            " 97 99]\n"
          ]
        }
      ]
    },
    {
      "cell_type": "markdown",
      "source": [
        "4.Write a Numpy program to compute sum of all elements, sum of each column and sum of each row of a given array"
      ],
      "metadata": {
        "id": "vWoKAvhEaysU"
      }
    },
    {
      "cell_type": "code",
      "source": [
        "import numpy as np\n",
        "arr=np.array([[1,2],[3,4]])\n",
        "\n",
        "print(\"Original array\")\n",
        "print(arr)\n",
        "\n",
        "print(\"Sum of all elements\")\n",
        "print(np.sum(arr))\n",
        "\n",
        "print(\"Sum of rows\")\n",
        "print(np.sum(arr, axis=1))\n",
        "\n",
        "print(\"Sum of columns\")\n",
        "print(np.sum(arr, axis=0))"
      ],
      "metadata": {
        "colab": {
          "base_uri": "https://localhost:8080/"
        },
        "id": "ZsIV8O42a1AI",
        "outputId": "2dcf4294-e697-49da-c7ec-717b3f197639"
      },
      "execution_count": 22,
      "outputs": [
        {
          "output_type": "stream",
          "name": "stdout",
          "text": [
            "Original array\n",
            "[[1 2]\n",
            " [3 4]]\n",
            "Sum of all elements\n",
            "10\n",
            "Sum of rows\n",
            "[3 7]\n",
            "Sum of columns\n",
            "[4 6]\n"
          ]
        }
      ]
    },
    {
      "cell_type": "markdown",
      "source": [
        "5.Write a numpy program to get the floor, ceiling and truncated values of the elements of a numpy array."
      ],
      "metadata": {
        "id": "vX2PrCG3byKW"
      }
    },
    {
      "cell_type": "code",
      "source": [
        "import numpy as np\n",
        "arr=np.array([-2.0, -1.6, -1.0, 0, 1.0, 2.6, 3.1])\n",
        "print(arr)\n",
        "print(\"floor values :: \")\n",
        "print(np.floor(arr))\n",
        "print(\"ceil values :: \")\n",
        "print(np.ceil(arr))\n",
        "print(\"trunc values :: \")\n",
        "print(np.trunc(arr))"
      ],
      "metadata": {
        "colab": {
          "base_uri": "https://localhost:8080/"
        },
        "id": "4iRWOJN5b2IZ",
        "outputId": "e3c868da-911c-406c-cfc2-01b029164983"
      },
      "execution_count": 25,
      "outputs": [
        {
          "output_type": "stream",
          "name": "stdout",
          "text": [
            "[-2.  -1.6 -1.   0.   1.   2.6  3.1]\n",
            "floor values :: \n",
            "[-2. -2. -1.  0.  1.  2.  3.]\n",
            "ceil values :: \n",
            "[-2. -1. -1.  0.  1.  3.  4.]\n",
            "trunc values :: \n",
            "[-2. -1. -1.  0.  1.  2.  3.]\n"
          ]
        }
      ]
    }
  ]
}